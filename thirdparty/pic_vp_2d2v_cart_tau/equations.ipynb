{
 "cells": [
  {
   "cell_type": "markdown",
   "metadata": {},
   "source": [
    "The long time Vlasov-Poisson equation with a strong external magnetic field in 2d\n",
    "\n",
    "$$\n",
    "\\def\\v{\\mathbf{v}}\n",
    "\\def\\x{\\mathbf{x}}\n",
    "\\def\\E{\\mathbf{E}}\n",
    "\\partial_t f^\\epsilon (t,\\x,\\v) + \\frac{\\v}{\\epsilon} \\cdot \\nabla_\\x f^\\epsilon (t,\\x,\\v) + \\frac{1}{\\epsilon} \\Big( \\E^\\epsilon(t,x)+\\frac{1}{\\epsilon} \\v^\\perp \\Big) \\cdot \\nabla_\\v f^\\epsilon (t,\\x,\\v) = 0, \\quad t> 0, \\x,\\v \\in \\mathbb{R}^2 \\\\\n",
    "\\E^\\epsilon = - \\nabla_\\x \\phi^\\epsilon (t,\\x), \\qquad –\\Delta \\phi^\\epsilon(t,\\x)  = \\rho^\\epsilon(t,\\x) - n^\\epsilon_i, \\qquad \\rho^\\epsilon(t,\\x) := \\int_\\mathbb{R} f^\\epsilon (t,\\x,\\v) d\\v\n",
    "$$\n",
    "\n",
    "The initial data is the Kelvin-Helmholtz instability type:\n",
    "\n",
    "$$\n",
    "f_0(\\x,\\v) = \\frac{1}{2\\pi} (1+\\sin(x_2) + \\eta \\cos(kx_1))\\exp{(-|\\v|^2/2)}\n",
    "$$\n"
   ]
  },
  {
   "cell_type": "code",
   "execution_count": null,
   "metadata": {
    "collapsed": true
   },
   "outputs": [],
   "source": []
  }
 ],
 "metadata": {
  "kernelspec": {
   "display_name": "Python 3",
   "language": "python",
   "name": "python3"
  },
  "language_info": {
   "codemirror_mode": {
    "name": "ipython",
    "version": 3
   },
   "file_extension": ".py",
   "mimetype": "text/x-python",
   "name": "python",
   "nbconvert_exporter": "python",
   "pygments_lexer": "ipython3",
   "version": "3.5.2"
  }
 },
 "nbformat": 4,
 "nbformat_minor": 0
}
